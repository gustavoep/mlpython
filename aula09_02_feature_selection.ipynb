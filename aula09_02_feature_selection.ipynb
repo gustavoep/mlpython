{
  "cells": [
    {
      "cell_type": "markdown",
      "metadata": {
        "id": "6uAYOARo8FQ6"
      },
      "source": [
        "## Seleção de Variáveis (Atributos, Features)\n",
        "\n",
        "Quanto mais dados, melhor, certo? Como tudo em ML, depende :-)\n",
        "\n",
        "Mais **observações** (linhas, registros) são sempre bem-vindas, pois potencialmente possibilitam que tenhamos uma aproximação melhor da distribuição real dos dados.\n",
        "\n",
        "Mais **variáveis** (atributos, features) nem sempre são bem-vindas, pois podem trazer informações irrelevantes para o problema ou ainda, que confundem o modelo.\n",
        "\n",
        "Dois exemplos artificiais, mas úteis, com o censo do IBGE, que é uma tabela de pessoas:\n",
        "\n",
        "- Qual o valor informativo de adicionar uma variável \"Espécie\", com valor igual a \"Humano\" nessa tabela?\n",
        "\n",
        "- Suponha que você quer criar um modelo para prever o atributo Sexo (M, F, X). Qual o valor informativo do atributo \"CEP\" nesse caso?\n",
        "\n",
        "Nem todos os atributos de um dataset são relevantes para um problema de ML. Pior, alguns atributos podem parecer relevantes mas confundir o modelo e gerar resultados espúrios (correlação != causalidade).\n",
        "\n",
        "Portanto, é um passo importante determinar quais variáveis são úteis na solução do seu problema.\n",
        "\n",
        "(Existe uma outra disciplina em ML chamada \"Feature Engineering\", que é a _criação_ de novos atributos com base em informações existentes para melhor representar um fenômeno. Este é um tópico mais avançado que não será discutido aqui.)\n",
        "\n",
        "Podemos dividir as abordagens de seleção de variáveis como sendo de dois tipos:\n",
        "\n",
        "- Baseado em dados\n",
        "- Baseado em modelos\n",
        "\n",
        "Como o nome diz, na abordagem baseada em dados, utilizamos propriedades dos próprios dados para determinar a relevância das variáveis, e assim selecionar um conjunto de variáveis apropriado para o problema.\n",
        "\n",
        "Na abordagem baseada em modelos, treinamos diversos modelos com conjuntos diferentes de variáveis para determinar qual o mais apropriado para o problema em questão."
      ]
    },
    {
      "cell_type": "code",
      "execution_count": null,
      "metadata": {
        "id": "jc1qkmNT8FQ_"
      },
      "outputs": [],
      "source": [
        "import matplotlib.pyplot as plt\n",
        "plt.rcParams['figure.dpi'] = 200\n",
        "plt.rcParams['figure.figsize'] = [15, 15]\n",
        "\n",
        "from time import perf_counter\n",
        "import numpy as np\n",
        "from sklearn import datasets\n",
        "from sklearn.feature_selection import VarianceThreshold, chi2, mutual_info_classif, SelectKBest\n",
        "\n",
        "from sklearn.linear_model import LogisticRegressionCV, LogisticRegression\n",
        "from sklearn.metrics import accuracy_score\n",
        "from sklearn.model_selection import train_test_split\n",
        "import pandas as pd\n",
        "import numpy as np\n",
        "from sklearn.preprocessing import MinMaxScaler\n",
        "from sklearn.model_selection import train_test_split\n",
        "from sklearn.feature_selection import RFECV, SequentialFeatureSelector\n",
        "\n",
        "#Função que treina o modelo e retorna acurácia no test set\n",
        "def run_lr(X_train, X_test, y_train, y_test):\n",
        "    lr = LogisticRegressionCV(cv=5, verbose=0, solver='liblinear', n_jobs=4)\n",
        "    lr.fit(X_train, y_train)\n",
        "    y_pred = lr.predict(X_test)\n",
        "    \n",
        "    return accuracy_score(y_test, y_pred)\n",
        "\n",
        "def get_vars(X, support):\n",
        "    return [x-1 for x in np.array(range(1, X.shape[1]+1)) * support if x > 0]\n"
      ]
    },
    {
      "cell_type": "markdown",
      "metadata": {
        "id": "0-cZPf188FRD"
      },
      "source": [
        "## Seleção de Variáveis baseada em Dados\n",
        "\n",
        "Utilizamos propriedades estatísticas das variáveis para determinar sua relevância, ou ainda, relacionamos estas propriedades à distribuição das classes no problema. Listamos algumas técnicas a seguir:\n",
        "\n",
        "### Técnica 1: Variância\n",
        "\n",
        "Calculamos a variância de cada variável individualmente, e definimos um _threshold_ de variância mínima, para decidir quais são relevantes."
      ]
    },
    {
      "cell_type": "code",
      "execution_count": null,
      "metadata": {
        "colab": {
          "base_uri": "https://localhost:8080/",
          "height": 435
        },
        "id": "jOvg_1NQ8FRF",
        "outputId": "1be3067c-623a-4f17-f9b4-5bb4075c701f"
      },
      "outputs": [
        {
          "output_type": "stream",
          "name": "stdout",
          "text": [
            "# vars original: 30, # vars com threshold: 11\n",
            "[1.23970943e+01 1.84663974e+01 5.89402799e+02 1.23625903e+05\n",
            " 1.97452073e-04 2.78428549e-03 6.34407875e-03 1.50301462e-03\n",
            " 7.50222008e-04 4.97611152e-05 7.67671984e-02 3.03781123e-01\n",
            " 4.08071149e+00 2.06579462e+03 8.99927022e-06 3.20139261e-04\n",
            " 9.09596835e-04 3.80055080e-05 6.82128053e-05 6.98938631e-06\n",
            " 2.33191693e+01 3.77100918e+01 1.12714643e+03 3.23597671e+05\n",
            " 5.20403629e-04 2.47112650e-02 4.34475982e-02 4.31314711e-03\n",
            " 3.82085668e-03 3.25636075e-04]\n"
          ]
        },
        {
          "output_type": "display_data",
          "data": {
            "image/png": "[encoded data removed]",
            "text/plain": [
              "<Figure size 432x288 with 1 Axes>"
            ]
          },
          "metadata": {
            "needs_background": "light"
          }
        }
      ],
      "source": [
        "X, y = datasets.load_breast_cancer(return_X_y=True)\n",
        "\n",
        "threshold = 0.1\n",
        "vt = VarianceThreshold(threshold)\n",
        "X_vt = vt.fit_transform(X)\n",
        "\n",
        "print('# vars original: {0}, # vars com threshold: {1}'.format(X.shape[1], X_vt.shape[1]))\n",
        "\n",
        "fig, ax = plt.subplots()\n",
        "ax.bar(range(len(vt.variances_)), vt.variances_)\n",
        "ax.set_yscale('log')\n",
        "ax.plot([0, len(vt.variances_)], [threshold, threshold], \"k--\")\n",
        "\n",
        "print(vt.variances_)"
      ]
    },
    {
      "cell_type": "markdown",
      "metadata": {
        "id": "8iXfd1yw8FRI"
      },
      "source": [
        "### Técnica 2: Teste Chi^2\n",
        "\n",
        "Calculamos a dependência entre cada variável e as classes de acordo com o teste Chi^2, para atribuir um _score_ de relevância às variáveis. Utilizamos o teste Chi^2 com a classe SelectKBest, que irá selecionar as k melhores variáveis. No nosso caso, escolhemos k=10.\n",
        "\n",
        "[Referência](https://en.wikipedia.org/wiki/Chi-squared_test) do teste Chi^2\n"
      ]
    },
    {
      "cell_type": "code",
      "execution_count": null,
      "metadata": {
        "scrolled": false,
        "colab": {
          "base_uri": "https://localhost:8080/"
        },
        "id": "V3oFLOQU8FRh",
        "outputId": "30730a05-7265-493e-afdc-2eadc4f2f31e"
      },
      "outputs": [
        {
          "output_type": "stream",
          "name": "stdout",
          "text": [
            "Variáveis selecionadas com Chi^2: [0, 1, 2, 3, 12, 13, 20, 21, 22, 23]\n"
          ]
        }
      ],
      "source": [
        "skb_c = SelectKBest(chi2, k=10)\n",
        "X_chi = skb_c.fit_transform(X, y)\n",
        "\n",
        "print('Variáveis selecionadas com Chi^2:', get_vars(X, skb_c.get_support()))"
      ]
    },
    {
      "cell_type": "markdown",
      "metadata": {
        "id": "V3pbyD6S8FRm"
      },
      "source": [
        "### Técnica 3: Informação Mútua\n",
        "\n",
        "Calculamos a dependência entre cada variável e as classes utilizando a métrica de informação mútua, para então atribuir um _score_ de relevância às variáveis. Novamente utilizamos a classe SelectKBest, que irá selecionar as k melhores variáveis, com k=10.\n",
        "\n",
        "[Referência](https://en.wikipedia.org/wiki/Mutual_information) de Informação Mútua"
      ]
    },
    {
      "cell_type": "code",
      "execution_count": null,
      "metadata": {
        "colab": {
          "base_uri": "https://localhost:8080/"
        },
        "id": "GIEir5Do8FRp",
        "outputId": "a9612f64-13c9-4725-b8f9-1642cab32748"
      },
      "outputs": [
        {
          "output_type": "stream",
          "name": "stdout",
          "text": [
            "Variáveis selecionadas com MI: [0, 1, 2, 3, 12, 13, 20, 21, 22, 23]\n"
          ]
        }
      ],
      "source": [
        "skb_m = SelectKBest(mutual_info_classif, k=10)\n",
        "X_mi = skb_m.fit_transform(X, y)\n",
        "\n",
        "print('Variáveis selecionadas com MI:', get_vars(X, skb_c.get_support()))"
      ]
    },
    {
      "cell_type": "markdown",
      "metadata": {
        "id": "uKYBIHHl8FRs"
      },
      "source": [
        "Depois de aplicar as transformações, temos 3 novos conjuntos de dados. Note que as variáveis escolhidas em cada caso é diferente.\n",
        "\n",
        "### Exemplo completo\n",
        "\n",
        "Vamos ver como a seleção de variáveis altera o resultado do treinamento de modelos, só que utilizando um dataset maior:"
      ]
    },
    {
      "cell_type": "code",
      "execution_count": null,
      "metadata": {
        "colab": {
          "base_uri": "https://localhost:8080/",
          "height": 472
        },
        "id": "nsL-_c4e8FRy",
        "outputId": "8e04e63e-7185-4c81-c5b6-7b87162451d4"
      },
      "outputs": [
        {
          "output_type": "error",
          "ename": "FileNotFoundError",
          "evalue": "ignored",
          "traceback": [
            "\u001b[0;31m---------------------------------------------------------------------------\u001b[0m",
            "\u001b[0;31mFileNotFoundError\u001b[0m                         Traceback (most recent call last)",
            "\u001b[0;32m<ipython-input-6-ad9c2dddfaa9>\u001b[0m in \u001b[0;36m<module>\u001b[0;34m()\u001b[0m\n\u001b[1;32m      1\u001b[0m \u001b[0;31m#Carga do dataset BANK\u001b[0m\u001b[0;34m\u001b[0m\u001b[0;34m\u001b[0m\u001b[0;34m\u001b[0m\u001b[0m\n\u001b[0;32m----> 2\u001b[0;31m \u001b[0mdf\u001b[0m \u001b[0;34m=\u001b[0m \u001b[0mpd\u001b[0m\u001b[0;34m.\u001b[0m\u001b[0mread_csv\u001b[0m\u001b[0;34m(\u001b[0m\u001b[0;34m'data/tab_bank.csv'\u001b[0m\u001b[0;34m,\u001b[0m \u001b[0msep\u001b[0m\u001b[0;34m=\u001b[0m\u001b[0;34m';'\u001b[0m\u001b[0;34m)\u001b[0m\u001b[0;34m\u001b[0m\u001b[0;34m\u001b[0m\u001b[0m\n\u001b[0m\u001b[1;32m      3\u001b[0m \u001b[0;34m\u001b[0m\u001b[0m\n\u001b[1;32m      4\u001b[0m \u001b[0my\u001b[0m \u001b[0;34m=\u001b[0m \u001b[0mdf\u001b[0m\u001b[0;34m[\u001b[0m\u001b[0;34m'y'\u001b[0m\u001b[0;34m]\u001b[0m\u001b[0;34m\u001b[0m\u001b[0;34m\u001b[0m\u001b[0m\n\u001b[1;32m      5\u001b[0m \u001b[0my\u001b[0m \u001b[0;34m=\u001b[0m \u001b[0mnp\u001b[0m\u001b[0;34m.\u001b[0m\u001b[0marray\u001b[0m\u001b[0;34m(\u001b[0m\u001b[0my\u001b[0m \u001b[0;34m==\u001b[0m \u001b[0;34m'yes'\u001b[0m\u001b[0;34m)\u001b[0m\u001b[0;34m.\u001b[0m\u001b[0mastype\u001b[0m\u001b[0;34m(\u001b[0m\u001b[0;34m'uint8'\u001b[0m\u001b[0;34m)\u001b[0m\u001b[0;34m\u001b[0m\u001b[0;34m\u001b[0m\u001b[0m\n",
            "\u001b[0;32m/usr/local/lib/python3.7/dist-packages/pandas/io/parsers.py\u001b[0m in \u001b[0;36mread_csv\u001b[0;34m(filepath_or_buffer, sep, delimiter, header, names, index_col, usecols, squeeze, prefix, mangle_dupe_cols, dtype, engine, converters, true_values, false_values, skipinitialspace, skiprows, skipfooter, nrows, na_values, keep_default_na, na_filter, verbose, skip_blank_lines, parse_dates, infer_datetime_format, keep_date_col, date_parser, dayfirst, cache_dates, iterator, chunksize, compression, thousands, decimal, lineterminator, quotechar, quoting, doublequote, escapechar, comment, encoding, dialect, error_bad_lines, warn_bad_lines, delim_whitespace, low_memory, memory_map, float_precision)\u001b[0m\n\u001b[1;32m    686\u001b[0m     )\n\u001b[1;32m    687\u001b[0m \u001b[0;34m\u001b[0m\u001b[0m\n\u001b[0;32m--> 688\u001b[0;31m     \u001b[0;32mreturn\u001b[0m \u001b[0m_read\u001b[0m\u001b[0;34m(\u001b[0m\u001b[0mfilepath_or_buffer\u001b[0m\u001b[0;34m,\u001b[0m \u001b[0mkwds\u001b[0m\u001b[0;34m)\u001b[0m\u001b[0;34m\u001b[0m\u001b[0;34m\u001b[0m\u001b[0m\n\u001b[0m\u001b[1;32m    689\u001b[0m \u001b[0;34m\u001b[0m\u001b[0m\n\u001b[1;32m    690\u001b[0m \u001b[0;34m\u001b[0m\u001b[0m\n",
            "\u001b[0;32m/usr/local/lib/python3.7/dist-packages/pandas/io/parsers.py\u001b[0m in \u001b[0;36m_read\u001b[0;34m(filepath_or_buffer, kwds)\u001b[0m\n\u001b[1;32m    452\u001b[0m \u001b[0;34m\u001b[0m\u001b[0m\n\u001b[1;32m    453\u001b[0m     \u001b[0;31m# Create the parser.\u001b[0m\u001b[0;34m\u001b[0m\u001b[0;34m\u001b[0m\u001b[0;34m\u001b[0m\u001b[0m\n\u001b[0;32m--> 454\u001b[0;31m     \u001b[0mparser\u001b[0m \u001b[0;34m=\u001b[0m \u001b[0mTextFileReader\u001b[0m\u001b[0;34m(\u001b[0m\u001b[0mfp_or_buf\u001b[0m\u001b[0;34m,\u001b[0m \u001b[0;34m**\u001b[0m\u001b[0mkwds\u001b[0m\u001b[0;34m)\u001b[0m\u001b[0;34m\u001b[0m\u001b[0;34m\u001b[0m\u001b[0m\n\u001b[0m\u001b[1;32m    455\u001b[0m \u001b[0;34m\u001b[0m\u001b[0m\n\u001b[1;32m    456\u001b[0m     \u001b[0;32mif\u001b[0m \u001b[0mchunksize\u001b[0m \u001b[0;32mor\u001b[0m \u001b[0miterator\u001b[0m\u001b[0;34m:\u001b[0m\u001b[0;34m\u001b[0m\u001b[0;34m\u001b[0m\u001b[0m\n",
            "\u001b[0;32m/usr/local/lib/python3.7/dist-packages/pandas/io/parsers.py\u001b[0m in \u001b[0;36m__init__\u001b[0;34m(self, f, engine, **kwds)\u001b[0m\n\u001b[1;32m    946\u001b[0m             \u001b[0mself\u001b[0m\u001b[0;34m.\u001b[0m\u001b[0moptions\u001b[0m\u001b[0;34m[\u001b[0m\u001b[0;34m\"has_index_names\"\u001b[0m\u001b[0;34m]\u001b[0m \u001b[0;34m=\u001b[0m \u001b[0mkwds\u001b[0m\u001b[0;34m[\u001b[0m\u001b[0;34m\"has_index_names\"\u001b[0m\u001b[0;34m]\u001b[0m\u001b[0;34m\u001b[0m\u001b[0;34m\u001b[0m\u001b[0m\n\u001b[1;32m    947\u001b[0m \u001b[0;34m\u001b[0m\u001b[0m\n\u001b[0;32m--> 948\u001b[0;31m         \u001b[0mself\u001b[0m\u001b[0;34m.\u001b[0m\u001b[0m_make_engine\u001b[0m\u001b[0;34m(\u001b[0m\u001b[0mself\u001b[0m\u001b[0;34m.\u001b[0m\u001b[0mengine\u001b[0m\u001b[0;34m)\u001b[0m\u001b[0;34m\u001b[0m\u001b[0;34m\u001b[0m\u001b[0m\n\u001b[0m\u001b[1;32m    949\u001b[0m \u001b[0;34m\u001b[0m\u001b[0m\n\u001b[1;32m    950\u001b[0m     \u001b[0;32mdef\u001b[0m \u001b[0mclose\u001b[0m\u001b[0;34m(\u001b[0m\u001b[0mself\u001b[0m\u001b[0;34m)\u001b[0m\u001b[0;34m:\u001b[0m\u001b[0;34m\u001b[0m\u001b[0;34m\u001b[0m\u001b[0m\n",
            "\u001b[0;32m/usr/local/lib/python3.7/dist-packages/pandas/io/parsers.py\u001b[0m in \u001b[0;36m_make_engine\u001b[0;34m(self, engine)\u001b[0m\n\u001b[1;32m   1178\u001b[0m     \u001b[0;32mdef\u001b[0m \u001b[0m_make_engine\u001b[0m\u001b[0;34m(\u001b[0m\u001b[0mself\u001b[0m\u001b[0;34m,\u001b[0m \u001b[0mengine\u001b[0m\u001b[0;34m=\u001b[0m\u001b[0;34m\"c\"\u001b[0m\u001b[0;34m)\u001b[0m\u001b[0;34m:\u001b[0m\u001b[0;34m\u001b[0m\u001b[0;34m\u001b[0m\u001b[0m\n\u001b[1;32m   1179\u001b[0m         \u001b[0;32mif\u001b[0m \u001b[0mengine\u001b[0m \u001b[0;34m==\u001b[0m \u001b[0;34m\"c\"\u001b[0m\u001b[0;34m:\u001b[0m\u001b[0;34m\u001b[0m\u001b[0;34m\u001b[0m\u001b[0m\n\u001b[0;32m-> 1180\u001b[0;31m             \u001b[0mself\u001b[0m\u001b[0;34m.\u001b[0m\u001b[0m_engine\u001b[0m \u001b[0;34m=\u001b[0m \u001b[0mCParserWrapper\u001b[0m\u001b[0;34m(\u001b[0m\u001b[0mself\u001b[0m\u001b[0;34m.\u001b[0m\u001b[0mf\u001b[0m\u001b[0;34m,\u001b[0m \u001b[0;34m**\u001b[0m\u001b[0mself\u001b[0m\u001b[0;34m.\u001b[0m\u001b[0moptions\u001b[0m\u001b[0;34m)\u001b[0m\u001b[0;34m\u001b[0m\u001b[0;34m\u001b[0m\u001b[0m\n\u001b[0m\u001b[1;32m   1181\u001b[0m         \u001b[0;32melse\u001b[0m\u001b[0;34m:\u001b[0m\u001b[0;34m\u001b[0m\u001b[0;34m\u001b[0m\u001b[0m\n\u001b[1;32m   1182\u001b[0m             \u001b[0;32mif\u001b[0m \u001b[0mengine\u001b[0m \u001b[0;34m==\u001b[0m \u001b[0;34m\"python\"\u001b[0m\u001b[0;34m:\u001b[0m\u001b[0;34m\u001b[0m\u001b[0;34m\u001b[0m\u001b[0m\n",
            "\u001b[0;32m/usr/local/lib/python3.7/dist-packages/pandas/io/parsers.py\u001b[0m in \u001b[0;36m__init__\u001b[0;34m(self, src, **kwds)\u001b[0m\n\u001b[1;32m   2008\u001b[0m         \u001b[0mkwds\u001b[0m\u001b[0;34m[\u001b[0m\u001b[0;34m\"usecols\"\u001b[0m\u001b[0;34m]\u001b[0m \u001b[0;34m=\u001b[0m \u001b[0mself\u001b[0m\u001b[0;34m.\u001b[0m\u001b[0musecols\u001b[0m\u001b[0;34m\u001b[0m\u001b[0;34m\u001b[0m\u001b[0m\n\u001b[1;32m   2009\u001b[0m \u001b[0;34m\u001b[0m\u001b[0m\n\u001b[0;32m-> 2010\u001b[0;31m         \u001b[0mself\u001b[0m\u001b[0;34m.\u001b[0m\u001b[0m_reader\u001b[0m \u001b[0;34m=\u001b[0m \u001b[0mparsers\u001b[0m\u001b[0;34m.\u001b[0m\u001b[0mTextReader\u001b[0m\u001b[0;34m(\u001b[0m\u001b[0msrc\u001b[0m\u001b[0;34m,\u001b[0m \u001b[0;34m**\u001b[0m\u001b[0mkwds\u001b[0m\u001b[0;34m)\u001b[0m\u001b[0;34m\u001b[0m\u001b[0;34m\u001b[0m\u001b[0m\n\u001b[0m\u001b[1;32m   2011\u001b[0m         \u001b[0mself\u001b[0m\u001b[0;34m.\u001b[0m\u001b[0munnamed_cols\u001b[0m \u001b[0;34m=\u001b[0m \u001b[0mself\u001b[0m\u001b[0;34m.\u001b[0m\u001b[0m_reader\u001b[0m\u001b[0;34m.\u001b[0m\u001b[0munnamed_cols\u001b[0m\u001b[0;34m\u001b[0m\u001b[0;34m\u001b[0m\u001b[0m\n\u001b[1;32m   2012\u001b[0m \u001b[0;34m\u001b[0m\u001b[0m\n",
            "\u001b[0;32mpandas/_libs/parsers.pyx\u001b[0m in \u001b[0;36mpandas._libs.parsers.TextReader.__cinit__\u001b[0;34m()\u001b[0m\n",
            "\u001b[0;32mpandas/_libs/parsers.pyx\u001b[0m in \u001b[0;36mpandas._libs.parsers.TextReader._setup_parser_source\u001b[0;34m()\u001b[0m\n",
            "\u001b[0;31mFileNotFoundError\u001b[0m: [Errno 2] No such file or directory: 'data/tab_bank.csv'"
          ]
        }
      ],
      "source": [
        "#Carga do dataset BANK\n",
        "df = pd.read_csv('data/tab_bank.csv', sep=';')\n",
        "\n",
        "y = df['y']\n",
        "y = np.array(y == 'yes').astype('uint8')\n",
        "\n",
        "df = df.drop(['y'], axis=1)\n",
        "df = pd.get_dummies(df)\n",
        "X = np.array(df)\n",
        "\n",
        "#Split dos dados em train/test\n",
        "X_train, X_test, y_train, y_test = train_test_split(X, y, test_size=0.1, stratify=y, random_state=420)\n",
        "\n",
        "#Rescaling dos dados para o intervalo [0,1]\n",
        "scaler = MinMaxScaler()\n",
        "scaler.fit(X_train)\n",
        "\n",
        "X_train_s = scaler.transform(X_train)\n",
        "X_test_s = scaler.transform(X_test)"
      ]
    },
    {
      "cell_type": "code",
      "execution_count": null,
      "metadata": {
        "id": "VRLd2ZTg8FR0"
      },
      "outputs": [],
      "source": [
        "#Treinamento do modelo inicial\n",
        "\n",
        "n_vars = X.shape[1]\n",
        "\n",
        "print('####################################################')\n",
        "print('Baseline (sem seleção de variáveis)')\n",
        "print('____________________________________________________')\n",
        "acc = run_lr(X_train_s, X_test_s, y_train, y_test)\n",
        "print('Acc (baseline, %d vars): %f' % (n_vars, acc))\n",
        "\n",
        "#Treinamento do modelo usando variância para selecionar variáveis\n",
        "#Utilizamos diferentes valores de variância para tentar encontrar o melhor\n",
        "print('####################################################')\n",
        "print('Seleção com variância')\n",
        "\n",
        "for threshold in [0.05, 0.1, 0.2, 0.3, 0.5]:\n",
        "    vt = VarianceThreshold(threshold)\n",
        "\n",
        "    t0 = perf_counter()\n",
        "    X_train_vt = vt.fit_transform(X_train)\n",
        "    t1 = perf_counter() - t0\n",
        "    \n",
        "    X_test_vt = vt.transform(X_test)\n",
        "    \n",
        "    n_vars_vt = X_train_vt.shape[1]\n",
        "    acc_vt = run_lr(X_train_vt, X_test_vt, y_train, y_test)\n",
        "    print('____________________________________________________')\n",
        "    print('Acc (variância > %f, %d vars): %f - %f s' % (threshold, n_vars_vt, acc_vt, t1),' - Variáveis: ', get_vars(X_train, vt.get_support()))\n",
        "    "
      ]
    },
    {
      "cell_type": "code",
      "execution_count": null,
      "metadata": {
        "id": "k52DhefJ8FR8"
      },
      "outputs": [],
      "source": [
        "#Treinamento do modelo usando Chi^2 para selecionar variáveis\n",
        "#Utilizamos diferentes valores de k para tentar encontrar o melhor\n",
        "print('####################################################')\n",
        "print('Seleção com Chi^2')\n",
        "\n",
        "for k in [3, 5, 7, 10, 20, 30, 40]:\n",
        "    skb_c = SelectKBest(chi2, k=k)\n",
        "    \n",
        "    t0 = perf_counter()\n",
        "    X_train_chi = skb_c.fit_transform(X_train_s, y_train)\n",
        "    t1 = perf_counter() - t0\n",
        "    \n",
        "    X_test_chi = skb_c.transform(X_test_s)\n",
        "\n",
        "    acc_chi = run_lr(X_train_chi, X_test_chi, y_train, y_test)\n",
        "    print('____________________________________________________')\n",
        "    print('Acc (Chi^2, %d vars): %f - %f s' % (k, acc_chi, t1), ' - Variáveis: ', get_vars(X_train, skb_c.get_support()))"
      ]
    },
    {
      "cell_type": "code",
      "execution_count": null,
      "metadata": {
        "id": "uWfROHbK8FR-"
      },
      "outputs": [],
      "source": [
        "#Treinamento do modelo usando Informação Mútua para selecionar variáveis\n",
        "#Utilizamos diferentes valores de k para tentar encontrar o melhor\n",
        "print('####################################################')\n",
        "print('Seleção com Informação Mútua')\n",
        "\n",
        "for k in [3, 5, 7, 10, 20, 30, 40]:\n",
        "    skb_m = SelectKBest(mutual_info_classif, k=k)\n",
        "    \n",
        "    t0 = perf_counter()\n",
        "    X_train_mi = skb_m.fit_transform(X_train_s, y_train)\n",
        "    t1 = perf_counter() - t0\n",
        "    \n",
        "    X_test_mi = skb_m.transform(X_test_s)\n",
        "    acc_mi = run_lr(X_train_mi, X_test_mi, y_train, y_test)\n",
        "    print('____________________________________________________')\n",
        "    print('Acc (MI, %d vars): %f - %f s' % (k, acc_mi, t1), ' - Variáveis: ', get_vars(X_train, skb_m.get_support()))"
      ]
    },
    {
      "cell_type": "markdown",
      "metadata": {
        "id": "r4wnJBtH8FSA"
      },
      "source": [
        "### Como interpretar esses resultados?\n",
        "\n",
        "1. Seleção de variáveis baseada em dadois não funciona, pois a acurácia diminuiu.\n",
        "2. Seleção de variáveis baseada em dados funciona, pois conseguimos obter quase a mesma acurácia com uma fração muito menor de variáveis.\n",
        "\n",
        "O que você acha? Quais os pontos fortes e fracos dessa abordagem, em geral?"
      ]
    },
    {
      "cell_type": "markdown",
      "metadata": {
        "id": "0hAqvj3r8FSF"
      },
      "source": [
        "________________________________________________________________________________________________________________"
      ]
    },
    {
      "cell_type": "markdown",
      "metadata": {
        "id": "D4yy24zC8FSG"
      },
      "source": [
        "## Seleção de Variáveis baseada em Modelos\n",
        "\n",
        "Na abordagem baseada em modelos, treinamos diversos modelos com conjuntos diferentes de variáveis para determinar qual o mais apropriado para o problema em questão. Há várias formas de se fazer isso, e mostraremos três aqui:\n",
        "\n",
        "### Técnica 1: _Eliminação_ Recursiva de Atributos\n",
        "\n",
        "Vários modelos fornecem informação de importância de cada variável após o treinamento. Com base nessa informação, podemos treinar o modelo várias vezes e eliminar as variáveis menos importantes a cada treinamento."
      ]
    },
    {
      "cell_type": "code",
      "execution_count": null,
      "metadata": {
        "colab": {
          "base_uri": "https://localhost:8080/",
          "height": 472
        },
        "id": "g5Ckdd8W8FSI",
        "outputId": "ce448c2d-44ed-4297-8ccc-240116a7bb76"
      },
      "outputs": [
        {
          "output_type": "error",
          "ename": "FileNotFoundError",
          "evalue": "ignored",
          "traceback": [
            "\u001b[0;31m---------------------------------------------------------------------------\u001b[0m",
            "\u001b[0;31mFileNotFoundError\u001b[0m                         Traceback (most recent call last)",
            "\u001b[0;32m<ipython-input-7-7270fb732984>\u001b[0m in \u001b[0;36m<module>\u001b[0;34m()\u001b[0m\n\u001b[1;32m      1\u001b[0m \u001b[0;31m#Carga do dataset BANK\u001b[0m\u001b[0;34m\u001b[0m\u001b[0;34m\u001b[0m\u001b[0;34m\u001b[0m\u001b[0m\n\u001b[0;32m----> 2\u001b[0;31m \u001b[0mdf\u001b[0m \u001b[0;34m=\u001b[0m \u001b[0mpd\u001b[0m\u001b[0;34m.\u001b[0m\u001b[0mread_csv\u001b[0m\u001b[0;34m(\u001b[0m\u001b[0;34m'datasets/tab_bank.csv'\u001b[0m\u001b[0;34m,\u001b[0m \u001b[0msep\u001b[0m\u001b[0;34m=\u001b[0m\u001b[0;34m';'\u001b[0m\u001b[0;34m)\u001b[0m\u001b[0;34m\u001b[0m\u001b[0;34m\u001b[0m\u001b[0m\n\u001b[0m\u001b[1;32m      3\u001b[0m \u001b[0;34m\u001b[0m\u001b[0m\n\u001b[1;32m      4\u001b[0m \u001b[0my\u001b[0m \u001b[0;34m=\u001b[0m \u001b[0mdf\u001b[0m\u001b[0;34m[\u001b[0m\u001b[0;34m'y'\u001b[0m\u001b[0;34m]\u001b[0m\u001b[0;34m\u001b[0m\u001b[0;34m\u001b[0m\u001b[0m\n\u001b[1;32m      5\u001b[0m \u001b[0my\u001b[0m \u001b[0;34m=\u001b[0m \u001b[0mnp\u001b[0m\u001b[0;34m.\u001b[0m\u001b[0marray\u001b[0m\u001b[0;34m(\u001b[0m\u001b[0my\u001b[0m \u001b[0;34m==\u001b[0m \u001b[0;34m'yes'\u001b[0m\u001b[0;34m)\u001b[0m\u001b[0;34m.\u001b[0m\u001b[0mastype\u001b[0m\u001b[0;34m(\u001b[0m\u001b[0;34m'uint8'\u001b[0m\u001b[0;34m)\u001b[0m\u001b[0;34m\u001b[0m\u001b[0;34m\u001b[0m\u001b[0m\n",
            "\u001b[0;32m/usr/local/lib/python3.7/dist-packages/pandas/io/parsers.py\u001b[0m in \u001b[0;36mread_csv\u001b[0;34m(filepath_or_buffer, sep, delimiter, header, names, index_col, usecols, squeeze, prefix, mangle_dupe_cols, dtype, engine, converters, true_values, false_values, skipinitialspace, skiprows, skipfooter, nrows, na_values, keep_default_na, na_filter, verbose, skip_blank_lines, parse_dates, infer_datetime_format, keep_date_col, date_parser, dayfirst, cache_dates, iterator, chunksize, compression, thousands, decimal, lineterminator, quotechar, quoting, doublequote, escapechar, comment, encoding, dialect, error_bad_lines, warn_bad_lines, delim_whitespace, low_memory, memory_map, float_precision)\u001b[0m\n\u001b[1;32m    686\u001b[0m     )\n\u001b[1;32m    687\u001b[0m \u001b[0;34m\u001b[0m\u001b[0m\n\u001b[0;32m--> 688\u001b[0;31m     \u001b[0;32mreturn\u001b[0m \u001b[0m_read\u001b[0m\u001b[0;34m(\u001b[0m\u001b[0mfilepath_or_buffer\u001b[0m\u001b[0;34m,\u001b[0m \u001b[0mkwds\u001b[0m\u001b[0;34m)\u001b[0m\u001b[0;34m\u001b[0m\u001b[0;34m\u001b[0m\u001b[0m\n\u001b[0m\u001b[1;32m    689\u001b[0m \u001b[0;34m\u001b[0m\u001b[0m\n\u001b[1;32m    690\u001b[0m \u001b[0;34m\u001b[0m\u001b[0m\n",
            "\u001b[0;32m/usr/local/lib/python3.7/dist-packages/pandas/io/parsers.py\u001b[0m in \u001b[0;36m_read\u001b[0;34m(filepath_or_buffer, kwds)\u001b[0m\n\u001b[1;32m    452\u001b[0m \u001b[0;34m\u001b[0m\u001b[0m\n\u001b[1;32m    453\u001b[0m     \u001b[0;31m# Create the parser.\u001b[0m\u001b[0;34m\u001b[0m\u001b[0;34m\u001b[0m\u001b[0;34m\u001b[0m\u001b[0m\n\u001b[0;32m--> 454\u001b[0;31m     \u001b[0mparser\u001b[0m \u001b[0;34m=\u001b[0m \u001b[0mTextFileReader\u001b[0m\u001b[0;34m(\u001b[0m\u001b[0mfp_or_buf\u001b[0m\u001b[0;34m,\u001b[0m \u001b[0;34m**\u001b[0m\u001b[0mkwds\u001b[0m\u001b[0;34m)\u001b[0m\u001b[0;34m\u001b[0m\u001b[0;34m\u001b[0m\u001b[0m\n\u001b[0m\u001b[1;32m    455\u001b[0m \u001b[0;34m\u001b[0m\u001b[0m\n\u001b[1;32m    456\u001b[0m     \u001b[0;32mif\u001b[0m \u001b[0mchunksize\u001b[0m \u001b[0;32mor\u001b[0m \u001b[0miterator\u001b[0m\u001b[0;34m:\u001b[0m\u001b[0;34m\u001b[0m\u001b[0;34m\u001b[0m\u001b[0m\n",
            "\u001b[0;32m/usr/local/lib/python3.7/dist-packages/pandas/io/parsers.py\u001b[0m in \u001b[0;36m__init__\u001b[0;34m(self, f, engine, **kwds)\u001b[0m\n\u001b[1;32m    946\u001b[0m             \u001b[0mself\u001b[0m\u001b[0;34m.\u001b[0m\u001b[0moptions\u001b[0m\u001b[0;34m[\u001b[0m\u001b[0;34m\"has_index_names\"\u001b[0m\u001b[0;34m]\u001b[0m \u001b[0;34m=\u001b[0m \u001b[0mkwds\u001b[0m\u001b[0;34m[\u001b[0m\u001b[0;34m\"has_index_names\"\u001b[0m\u001b[0;34m]\u001b[0m\u001b[0;34m\u001b[0m\u001b[0;34m\u001b[0m\u001b[0m\n\u001b[1;32m    947\u001b[0m \u001b[0;34m\u001b[0m\u001b[0m\n\u001b[0;32m--> 948\u001b[0;31m         \u001b[0mself\u001b[0m\u001b[0;34m.\u001b[0m\u001b[0m_make_engine\u001b[0m\u001b[0;34m(\u001b[0m\u001b[0mself\u001b[0m\u001b[0;34m.\u001b[0m\u001b[0mengine\u001b[0m\u001b[0;34m)\u001b[0m\u001b[0;34m\u001b[0m\u001b[0;34m\u001b[0m\u001b[0m\n\u001b[0m\u001b[1;32m    949\u001b[0m \u001b[0;34m\u001b[0m\u001b[0m\n\u001b[1;32m    950\u001b[0m     \u001b[0;32mdef\u001b[0m \u001b[0mclose\u001b[0m\u001b[0;34m(\u001b[0m\u001b[0mself\u001b[0m\u001b[0;34m)\u001b[0m\u001b[0;34m:\u001b[0m\u001b[0;34m\u001b[0m\u001b[0;34m\u001b[0m\u001b[0m\n",
            "\u001b[0;32m/usr/local/lib/python3.7/dist-packages/pandas/io/parsers.py\u001b[0m in \u001b[0;36m_make_engine\u001b[0;34m(self, engine)\u001b[0m\n\u001b[1;32m   1178\u001b[0m     \u001b[0;32mdef\u001b[0m \u001b[0m_make_engine\u001b[0m\u001b[0;34m(\u001b[0m\u001b[0mself\u001b[0m\u001b[0;34m,\u001b[0m \u001b[0mengine\u001b[0m\u001b[0;34m=\u001b[0m\u001b[0;34m\"c\"\u001b[0m\u001b[0;34m)\u001b[0m\u001b[0;34m:\u001b[0m\u001b[0;34m\u001b[0m\u001b[0;34m\u001b[0m\u001b[0m\n\u001b[1;32m   1179\u001b[0m         \u001b[0;32mif\u001b[0m \u001b[0mengine\u001b[0m \u001b[0;34m==\u001b[0m \u001b[0;34m\"c\"\u001b[0m\u001b[0;34m:\u001b[0m\u001b[0;34m\u001b[0m\u001b[0;34m\u001b[0m\u001b[0m\n\u001b[0;32m-> 1180\u001b[0;31m             \u001b[0mself\u001b[0m\u001b[0;34m.\u001b[0m\u001b[0m_engine\u001b[0m \u001b[0;34m=\u001b[0m \u001b[0mCParserWrapper\u001b[0m\u001b[0;34m(\u001b[0m\u001b[0mself\u001b[0m\u001b[0;34m.\u001b[0m\u001b[0mf\u001b[0m\u001b[0;34m,\u001b[0m \u001b[0;34m**\u001b[0m\u001b[0mself\u001b[0m\u001b[0;34m.\u001b[0m\u001b[0moptions\u001b[0m\u001b[0;34m)\u001b[0m\u001b[0;34m\u001b[0m\u001b[0;34m\u001b[0m\u001b[0m\n\u001b[0m\u001b[1;32m   1181\u001b[0m         \u001b[0;32melse\u001b[0m\u001b[0;34m:\u001b[0m\u001b[0;34m\u001b[0m\u001b[0;34m\u001b[0m\u001b[0m\n\u001b[1;32m   1182\u001b[0m             \u001b[0;32mif\u001b[0m \u001b[0mengine\u001b[0m \u001b[0;34m==\u001b[0m \u001b[0;34m\"python\"\u001b[0m\u001b[0;34m:\u001b[0m\u001b[0;34m\u001b[0m\u001b[0;34m\u001b[0m\u001b[0m\n",
            "\u001b[0;32m/usr/local/lib/python3.7/dist-packages/pandas/io/parsers.py\u001b[0m in \u001b[0;36m__init__\u001b[0;34m(self, src, **kwds)\u001b[0m\n\u001b[1;32m   2008\u001b[0m         \u001b[0mkwds\u001b[0m\u001b[0;34m[\u001b[0m\u001b[0;34m\"usecols\"\u001b[0m\u001b[0;34m]\u001b[0m \u001b[0;34m=\u001b[0m \u001b[0mself\u001b[0m\u001b[0;34m.\u001b[0m\u001b[0musecols\u001b[0m\u001b[0;34m\u001b[0m\u001b[0;34m\u001b[0m\u001b[0m\n\u001b[1;32m   2009\u001b[0m \u001b[0;34m\u001b[0m\u001b[0m\n\u001b[0;32m-> 2010\u001b[0;31m         \u001b[0mself\u001b[0m\u001b[0;34m.\u001b[0m\u001b[0m_reader\u001b[0m \u001b[0;34m=\u001b[0m \u001b[0mparsers\u001b[0m\u001b[0;34m.\u001b[0m\u001b[0mTextReader\u001b[0m\u001b[0;34m(\u001b[0m\u001b[0msrc\u001b[0m\u001b[0;34m,\u001b[0m \u001b[0;34m**\u001b[0m\u001b[0mkwds\u001b[0m\u001b[0;34m)\u001b[0m\u001b[0;34m\u001b[0m\u001b[0;34m\u001b[0m\u001b[0m\n\u001b[0m\u001b[1;32m   2011\u001b[0m         \u001b[0mself\u001b[0m\u001b[0;34m.\u001b[0m\u001b[0munnamed_cols\u001b[0m \u001b[0;34m=\u001b[0m \u001b[0mself\u001b[0m\u001b[0;34m.\u001b[0m\u001b[0m_reader\u001b[0m\u001b[0;34m.\u001b[0m\u001b[0munnamed_cols\u001b[0m\u001b[0;34m\u001b[0m\u001b[0;34m\u001b[0m\u001b[0m\n\u001b[1;32m   2012\u001b[0m \u001b[0;34m\u001b[0m\u001b[0m\n",
            "\u001b[0;32mpandas/_libs/parsers.pyx\u001b[0m in \u001b[0;36mpandas._libs.parsers.TextReader.__cinit__\u001b[0;34m()\u001b[0m\n",
            "\u001b[0;32mpandas/_libs/parsers.pyx\u001b[0m in \u001b[0;36mpandas._libs.parsers.TextReader._setup_parser_source\u001b[0;34m()\u001b[0m\n",
            "\u001b[0;31mFileNotFoundError\u001b[0m: [Errno 2] No such file or directory: 'datasets/tab_bank.csv'"
          ]
        }
      ],
      "source": [
        "#Carga do dataset BANK\n",
        "df = pd.read_csv('datasets/tab_bank.csv', sep=';')\n",
        "\n",
        "y = df['y']\n",
        "y = np.array(y == 'yes').astype('uint8')\n",
        "\n",
        "df = df.drop(['y'], axis=1)\n",
        "df = pd.get_dummies(df)\n",
        "X = np.array(df)\n",
        "\n",
        "#Split dos dados em train/test\n",
        "X_train, X_test, y_train, y_test = train_test_split(X, y, test_size=0.1, stratify=y, random_state=420)\n",
        "\n",
        "#Rescaling dos dados para o intervalo [0,1]\n",
        "scaler = MinMaxScaler()\n",
        "scaler.fit(X_train)\n",
        "\n",
        "X_train = scaler.transform(X_train)\n",
        "X_test = scaler.transform(X_test)"
      ]
    },
    {
      "cell_type": "code",
      "execution_count": null,
      "metadata": {
        "id": "ezqD8BdJ8FSL"
      },
      "outputs": [],
      "source": [
        "print('####################################################')\n",
        "print('Eliminação Recursiva de Atributos')\n",
        "print('____________________________________________________')\n",
        "\n",
        "\n",
        "rfecv_lr = RFECV(LogisticRegression(solver='liblinear'), step=1, min_features_to_select=1, cv=5, scoring='accuracy', n_jobs=4)\n",
        "\n",
        "t0 = perf_counter()\n",
        "rfecv_lr.fit(X_train, y_train)\n",
        "t1 = perf_counter() - t0\n",
        "\n",
        "y_pred = rfecv_lr.predict(X_test)\n",
        "acc_rfe_lr = accuracy_score(y_test, y_pred)\n",
        "\n",
        "print('Acc (RFE(LR), %d vars): %f - %f s' % (rfecv_lr.n_features_, acc_rfe_lr, t1), ' - Variáveis: ', get_vars(X_train, rfecv_lr.get_support()))"
      ]
    },
    {
      "cell_type": "markdown",
      "metadata": {
        "id": "L6wzr-vz8FSP"
      },
      "source": [
        "### Técnica 2: _Seleção_ Sequencial de Atributos (incremental)\n",
        "\n",
        "Neste caso, partimos de uma variável, e vamos acrescentando outras até o valor $k$, de modo a obter o melhor conjunto de variáveis possível para o modelo.\n",
        "\n",
        "Há uma diferença importante desse método em relação aos demais: ele não requer que o modelo forneça informação de relevância das variáveis: a relevância é obtida com base na acurácia obtida nos treinamentos sucessivos com diferentes combinações de variáveis."
      ]
    },
    {
      "cell_type": "code",
      "execution_count": null,
      "metadata": {
        "id": "PnLwqb8t8FSQ"
      },
      "outputs": [],
      "source": [
        "#Treinamento do modelo usando Seleção Sequencial de Atributos (Incremental)\n",
        "#Utilizamos diferentes valores de k para tentar encontrar o melhor\n",
        "print('####################################################')\n",
        "print('Seleção Sequencial de Atributos (Incremental)')\n",
        "\n",
        "for k in [1, 3, 5, 7, 10, 20, 30, 40]:\n",
        "    sfs_fwd = SequentialFeatureSelector(LogisticRegression(solver='liblinear'), n_features_to_select=k, scoring='accuracy', direction='forward', n_jobs=16)\n",
        "    \n",
        "    t0 = perf_counter()\n",
        "    sfs_fwd.fit(X_train, y_train)\n",
        "    t1 = perf_counter() - t0\n",
        "    \n",
        "    X_train_sfs_fwd = sfs_fwd.transform(X_train)\n",
        "    X_test_sfs_fwd = sfs_fwd.transform(X_test)\n",
        "    acc_sfs_fwd = run_lr(X_train_sfs_fwd, X_test_sfs_fwd, y_train, y_test)\n",
        "\n",
        "    print('____________________________________________________')\n",
        "    print('Acc (SFS(fwd), %d vars): %f - %f s' % (k, acc_sfs_fwd, t1), ' - Variáveis: ', get_vars(X_train, sfs_fwd.get_support()))\n"
      ]
    },
    {
      "cell_type": "markdown",
      "metadata": {
        "id": "w4Zf-b5d8FSS"
      },
      "source": [
        "### Técnica 2: _Seleção_ Sequencial de Atributos (decremental)\n",
        "\n",
        "Neste caso, iniciamos com _todas_ as variáveis, e vamos removendo as menos importantes até obter $k$ variáveis.\n",
        "\n",
        "Novamente, este método só depende da acurácia do modelo."
      ]
    },
    {
      "cell_type": "code",
      "execution_count": null,
      "metadata": {
        "id": "UwaU64qo8FST"
      },
      "outputs": [],
      "source": [
        "#Treinamento do modelo usando Seleção Sequencial de Atributos (Decremental)\n",
        "#Utilizamos diferentes valores de k para tentar encontrar o melhor\n",
        "print('####################################################')\n",
        "print('Seleção Sequencial de Atributos (Decremental)')\n",
        "\n",
        "for k in [1, 3]: #, 5, 7, 10, 20, 30, 40]: #comentado porque demora muito\n",
        "    sfs_bwd = SequentialFeatureSelector(LogisticRegression(solver='liblinear'), n_features_to_select=k, scoring='accuracy', direction='backward', n_jobs=16)\n",
        "    \n",
        "    t0 = perf_counter()\n",
        "    sfs_bwd.fit(X_train, y_train)\n",
        "    t1 = perf_counter() - t0\n",
        "    \n",
        "    X_train_sfs_bwd = sfs_bwd.transform(X_train)\n",
        "    X_test_sfs_bwd = sfs_bwd.transform(X_test)\n",
        "    acc_sfs_bwd = run_lr(X_train_sfs_bwd, X_test_sfs_bwd, y_train, y_test)\n",
        "\n",
        "    print('____________________________________________________')\n",
        "    print('Acc (SFS(bwd), %d vars): %f - %f s' % (k, acc_sfs_bwd, t1), ' - Variáveis: ', get_vars(X_train, sfs_bwd.get_support()))\n"
      ]
    },
    {
      "cell_type": "code",
      "execution_count": null,
      "metadata": {
        "id": "K-rDKjYc8FSV"
      },
      "outputs": [],
      "source": []
    }
  ],
  "metadata": {
    "@webio": {
      "lastCommId": null,
      "lastKernelId": null
    },
    "kernelspec": {
      "display_name": "Python 3",
      "language": "python",
      "name": "python3"
    },
    "language_info": {
      "codemirror_mode": {
        "name": "ipython",
        "version": 3
      },
      "file_extension": ".py",
      "mimetype": "text/x-python",
      "name": "python",
      "nbconvert_exporter": "python",
      "pygments_lexer": "ipython3",
      "version": "3.7.6"
    },
    "colab": {
      "provenance": []
    }
  },
  "nbformat": 4,
  "nbformat_minor": 0
}